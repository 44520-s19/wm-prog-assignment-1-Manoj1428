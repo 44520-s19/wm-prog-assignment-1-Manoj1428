{
 "cells": [
  {
   "cell_type": "markdown",
   "metadata": {},
   "source": [
    "Naga Sai Manoj Goppisetty"
   ]
  },
  {
   "cell_type": "code",
   "execution_count": 4,
   "metadata": {},
   "outputs": [
    {
     "name": "stdout",
     "output_type": "stream",
     "text": [
      "#      #\n",
      "##    ##\n",
      "###  ###\n",
      "########\n"
     ]
    }
   ],
   "source": [
    "x = 4; a = 1\n",
    "while a <= x:\n",
    "    b = a\n",
    "    while b >= 1:\n",
    "        print('#',end='')\n",
    "        b-=1\n",
    "    c = 2 * (x-a)\n",
    "    b = c\n",
    "    while b >= 1:\n",
    "        print(' ',end='')\n",
    "        b-=1\n",
    "    b = a\n",
    "    while b >= 1:\n",
    "        print('#',end='')\n",
    "        b-=1\n",
    "    print()\n",
    "    a+=1"
   ]
  }
 ],
 "metadata": {
  "kernelspec": {
   "display_name": "Python 3",
   "language": "python",
   "name": "python3"
  },
  "language_info": {
   "codemirror_mode": {
    "name": "ipython",
    "version": 3
   },
   "file_extension": ".py",
   "mimetype": "text/x-python",
   "name": "python",
   "nbconvert_exporter": "python",
   "pygments_lexer": "ipython3",
   "version": "3.7.3"
  }
 },
 "nbformat": 4,
 "nbformat_minor": 2
}
